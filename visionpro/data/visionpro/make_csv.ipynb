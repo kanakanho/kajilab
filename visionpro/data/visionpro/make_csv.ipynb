{
 "cells": [
  {
   "cell_type": "code",
   "execution_count": 2,
   "metadata": {},
   "outputs": [],
   "source": [
    "import pandas as pd"
   ]
  },
  {
   "cell_type": "code",
   "execution_count": 3,
   "metadata": {},
   "outputs": [],
   "source": [
    "file_path = 'sensorData.csv'"
   ]
  },
  {
   "cell_type": "code",
   "execution_count": 4,
   "metadata": {},
   "outputs": [],
   "source": [
    "df = pd.read_csv(file_path)\n",
    "\n",
    "# type が acc か gyro でファイルを分割する\n",
    "acc_df = df[df['type'] == 'acc']\n",
    "gyro_df = df[df['type'] == 'gyro']\n",
    "\n",
    "# type の列を削除する\n",
    "acc_df = acc_df.drop('type', axis=1)\n",
    "gyro_df = gyro_df.drop('type', axis=1)\n",
    "\n",
    "# 分割したデータをファイルに保存する\n",
    "acc_df.to_csv('acc.csv', index=False)\n",
    "gyro_df.to_csv('gyro.csv', index=False)"
   ]
  }
 ],
 "metadata": {
  "kernelspec": {
   "display_name": "3.10.13",
   "language": "python",
   "name": "python3"
  },
  "language_info": {
   "codemirror_mode": {
    "name": "ipython",
    "version": 3
   },
   "file_extension": ".py",
   "mimetype": "text/x-python",
   "name": "python",
   "nbconvert_exporter": "python",
   "pygments_lexer": "ipython3",
   "version": "3.10.13"
  }
 },
 "nbformat": 4,
 "nbformat_minor": 2
}

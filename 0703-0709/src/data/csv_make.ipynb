{
 "cells": [
  {
   "cell_type": "code",
   "execution_count": 2,
   "metadata": {},
   "outputs": [],
   "source": [
    "import pandas as pd\n",
    "\n",
    "# CSVファイルを読み込む\n",
    "df = pd.read_csv('Accelerometer3.csv')\n",
    "\n",
    "# ヘッダーを書き換える\n",
    "new_header = ['t', 'x', 'y','z']\n",
    "df.columns = new_header\n",
    "\n",
    "# 書き換えたデータをCSVファイルに保存する\n",
    "df.to_csv('Accelerometer3.csv', index=False)\n",
    "\n",
    "# CSVファイルを読み込む\n",
    "df = pd.read_csv('Gyroscope3.csv')\n",
    "\n",
    "# ヘッダーを書き換える\n",
    "new_header = ['t', 'x', 'y','z']\n",
    "df.columns = new_header\n",
    "\n",
    "# 書き換えたデータをCSVファイルに保存する\n",
    "df.to_csv('Gyroscope3.csv', index=False)\n"
   ]
  },
  {
   "cell_type": "code",
   "execution_count": 4,
   "metadata": {},
   "outputs": [],
   "source": [
    "import pandas as pd\n",
    "\n",
    "# CSVファイルを読み込む\n",
    "df = pd.read_csv('Accelerometer3.csv')\n",
    "\n",
    "# 条件に合致する行のみを抽出する\n",
    "filtered_df = df[(df['t'] >= 8) & (df['t'] <= 17)]\n",
    "\n",
    "# 抽出したデータを新しいファイルに保存する\n",
    "filtered_df.to_csv('Accelerometer3_filter.csv', index=False)\n",
    "\n",
    "# CSVファイルを読み込む\n",
    "df = pd.read_csv('Gyroscope3.csv')\n",
    "\n",
    "# 条件に合致する行のみを抽出する\n",
    "filtered_df = df[(df['t'] >= 8) & (df['t'] <= 17)]\n",
    "\n",
    "# 抽出したデータを新しいファイルに保存する\n",
    "filtered_df.to_csv('Gyroscope3_filter.csv', index=False)\n"
   ]
  }
 ],
 "metadata": {
  "kernelspec": {
   "display_name": "Python 3",
   "language": "python",
   "name": "python3"
  },
  "language_info": {
   "codemirror_mode": {
    "name": "ipython",
    "version": 3
   },
   "file_extension": ".py",
   "mimetype": "text/x-python",
   "name": "python",
   "nbconvert_exporter": "python",
   "pygments_lexer": "ipython3",
   "version": "3.10.11"
  },
  "orig_nbformat": 4
 },
 "nbformat": 4,
 "nbformat_minor": 2
}

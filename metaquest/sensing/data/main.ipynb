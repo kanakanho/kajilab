{
 "cells": [
  {
   "cell_type": "code",
   "execution_count": 4,
   "metadata": {},
   "outputs": [],
   "source": [
    "import os\n",
    "import re"
   ]
  },
  {
   "cell_type": "code",
   "execution_count": 5,
   "metadata": {},
   "outputs": [
    {
     "name": "stdout",
     "output_type": "stream",
     "text": [
      "['walk_kjlb', 'oculus_walk', 'five_steps', 'phone_straight_filter', 'phone_straight', 'oculus_stairs', 'oculus_straight', 'walk_kjlb_turn', 'stairs']\n"
     ]
    }
   ],
   "source": [
    "# 同じディレクトリの中にあるディレクトリ名を取得\n",
    "dirs = os.listdir('./')\n",
    "dirs.remove('main.ipynb')\n",
    "dirs.remove('csv_make.ipynb')\n",
    "dirs.remove('.DS_Store')\n",
    "dirs.remove('memo.md')\n",
    "print(dirs)"
   ]
  },
  {
   "cell_type": "code",
   "execution_count": 6,
   "metadata": {},
   "outputs": [],
   "source": [
    "for path in dirs:\n",
    "    # 以下のディレクトリの中のファイル名を取得\n",
    "    files = os.listdir(path)\n",
    "\n",
    "    # ファイル名を表示\n",
    "    for file in files:\n",
    "        # ファイル名から数字と_と-を削除して保存\n",
    "        file_name = file.replace(' ', '').replace('-', '').replace('_', '')\n",
    "        file_name = re.sub('[0-9]', '', file_name)\n",
    "        # ファイル名を上書き保存\n",
    "        os.rename(path + '/' + file, path + '/' + file_name)\n"
   ]
  }
 ],
 "metadata": {
  "kernelspec": {
   "display_name": "Python 3",
   "language": "python",
   "name": "python3"
  },
  "language_info": {
   "codemirror_mode": {
    "name": "ipython",
    "version": 3
   },
   "file_extension": ".py",
   "mimetype": "text/x-python",
   "name": "python",
   "nbconvert_exporter": "python",
   "pygments_lexer": "ipython3",
   "version": "3.10.11"
  }
 },
 "nbformat": 4,
 "nbformat_minor": 2
}

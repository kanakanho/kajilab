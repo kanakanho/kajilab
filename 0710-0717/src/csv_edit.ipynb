{
 "cells": [
  {
   "cell_type": "code",
   "execution_count": null,
   "metadata": {},
   "outputs": [],
   "source": [
    "import pandas as pd\n",
    "\n",
    "Pressure_file_name = 'Pressure.csv'\n",
    "try:\n",
    "    # CSVファイルを読み込む\n",
    "    df = pd.read_csv('Pressure.csv')\n",
    "\n",
    "    # 条件に合致する行のみを抽出する\n",
    "    filtered_df = df[(df['p'] >= 8) & (df['p'] <= 17)]\n",
    "\n",
    "    # 抽出したデータを新しいファイルに保存する\n",
    "    filtered_df.to_csv('Pressure_filter.csv', index=False)\n",
    "except:\n",
    "    print('Error')"
   ]
  }
 ],
 "metadata": {
  "language_info": {
   "name": "python"
  },
  "orig_nbformat": 4
 },
 "nbformat": 4,
 "nbformat_minor": 2
}
